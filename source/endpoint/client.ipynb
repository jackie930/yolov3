{
 "cells": [
  {
   "cell_type": "code",
   "execution_count": 24,
   "metadata": {},
   "outputs": [
    {
     "name": "stdout",
     "output_type": "stream",
     "text": [
      "{'status': 'Healthy'}\n"
     ]
    }
   ],
   "source": [
    "!curl http://localhost:8080/ping "
   ]
  },
  {
   "cell_type": "code",
   "execution_count": 57,
   "metadata": {},
   "outputs": [],
   "source": [
    "# curl\n",
    "# nvidia-docker run -v -d -p 8080:8080 yolov3\n",
    "import requests\n",
    "import json\n",
    "import numpy as np\n",
    "\n",
    "url='http://localhost:8080/invocations'\n",
    "\n",
    "\n",
    "class MyEncoder(json.JSONEncoder):\n",
    "    def default(self, obj):\n",
    "        if isinstance(obj, np.ndarray):\n",
    "            return obj.tolist()\n",
    "        elif isinstance(obj, bytes):\n",
    "            return str(obj);\n",
    "        return json.JSONEncoder.default(self, obj)\n",
    "\n",
    "\n",
    "body = b\"\"\n",
    "with open(\"9.jpg\", \"rb\") as fp:\n",
    "    body = fp.read()\n",
    "\n",
    "test_data = {\n",
    "    'data': body,\n",
    "    'content_type': \"image/jpeg\",\n",
    "    }\n",
    "\n",
    "payload = json.dumps(test_data,cls=MyEncoder)\n",
    "    \n",
    "r = requests.post(url,\n",
    "                  data = payload)\n"
   ]
  },
  {
   "cell_type": "code",
   "execution_count": 58,
   "metadata": {},
   "outputs": [
    {
     "data": {
      "text/plain": [
       "<Response [500]>"
      ]
     },
     "execution_count": 58,
     "metadata": {},
     "output_type": "execute_result"
    }
   ],
   "source": [
    "r"
   ]
  },
  {
   "cell_type": "code",
   "execution_count": 48,
   "metadata": {},
   "outputs": [
    {
     "name": "stdout",
     "output_type": "stream",
     "text": [
      "<Response [415]>\n"
     ]
    }
   ],
   "source": [
    "#show result\n",
    "print (r)"
   ]
  },
  {
   "cell_type": "code",
   "execution_count": 47,
   "metadata": {},
   "outputs": [
    {
     "ename": "TypeError",
     "evalue": "'Response' object is not subscriptable",
     "output_type": "error",
     "traceback": [
      "\u001B[0;31m---------------------------------------------------------------------------\u001B[0m",
      "\u001B[0;31mTypeError\u001B[0m                                 Traceback (most recent call last)",
      "\u001B[0;32m<ipython-input-47-65c39441086e>\u001B[0m in \u001B[0;36m<module>\u001B[0;34m\u001B[0m\n\u001B[0;32m----> 1\u001B[0;31m \u001B[0mjson\u001B[0m\u001B[0;34m.\u001B[0m\u001B[0mloads\u001B[0m\u001B[0;34m(\u001B[0m\u001B[0mr\u001B[0m\u001B[0;34m[\u001B[0m\u001B[0;34m\"Body\"\u001B[0m\u001B[0;34m]\u001B[0m\u001B[0;34m.\u001B[0m\u001B[0mread\u001B[0m\u001B[0;34m(\u001B[0m\u001B[0;34m)\u001B[0m\u001B[0;34m)\u001B[0m\u001B[0;34m\u001B[0m\u001B[0;34m\u001B[0m\u001B[0m\n\u001B[0m",
      "\u001B[0;31mTypeError\u001B[0m: 'Response' object is not subscriptable"
     ]
    }
   ],
   "source": [
    "json.loads(r[\"Body\"].read())"
   ]
  },
  {
   "cell_type": "code",
   "execution_count": null,
   "metadata": {},
   "outputs": [],
   "source": [
    "import boto3\n",
    "import time\n",
    " \n",
    "runtime = boto3.client(\"sagemaker-runtime\")\n",
    " \n",
    "tic = time.time()\n",
    "\n",
    "body = b\"\"\n",
    "with open(\"1.jpeg\", \"rb\") as fp:\n",
    " body = fp.read()\n",
    "\n",
    "response = runtime.invoke_endpoint(\n",
    " EndpointName='drink-1',\n",
    " Body=body,\n",
    " ContentType='image/jpeg',\n",
    ")\n",
    "body = response[\"Body\"].read()\n",
    "\n",
    "toc = time.time()\n",
    "\n",
    "print(body.decode())\n",
    "print(f\"elapsed: {(toc - tic) * 1000.0} ms\")"
   ]
  },
  {
   "cell_type": "code",
   "execution_count": 47,
   "metadata": {},
   "outputs": [
    {
     "name": "stdout",
     "output_type": "stream",
     "text": [
      "CPU times: user 4 µs, sys: 1 µs, total: 5 µs\n",
      "Wall time: 9.3 µs\n"
     ]
    }
   ],
   "source": [
    "%%time \n",
    "\n",
    "def infer(input_image):\n",
    "    from boto3.session import Session\n",
    "    import json\n",
    "\n",
    "    bucket = 'spot-bot-asset'\n",
    "    image_uri = input_image\n",
    "    test_data = {\n",
    "        'bucket' : bucket,\n",
    "        'image_uri' : image_uri,\n",
    "        'content_type': \"application/json\",\n",
    "    }\n",
    "    payload = json.dumps(test_data)\n",
    "\n",
    "\n",
    "    session = Session()\n",
    "\n",
    "    runtime = session.client(\"runtime.sagemaker\")\n",
    "    response = runtime.invoke_endpoint(\n",
    "        EndpointName='esd-crnn',\n",
    "        ContentType=\"application/json\",\n",
    "        Body=payload)\n",
    "\n",
    "    result = json.loads(response[\"Body\"].read())\n",
    "    print (result)"
   ]
  },
  {
   "cell_type": "code",
   "execution_count": 51,
   "metadata": {},
   "outputs": [
    {
     "name": "stdout",
     "output_type": "stream",
     "text": [
      "{'result': 'Hﺋ\\ue82cﺥ'}\n",
      "{'result': '粜秽ｌ分行名耨'}\n",
      "{'result': '粜秽ｌ分行名耨'}\n",
      "{'result': '粜秽ｌ分行名耨'}\n",
      "{'result': '粜秽ｌ分行名耨'}\n",
      "{'result': '粜秽ｌ分行名耨'}\n",
      "[None, None, None, None, None, None]\n",
      "CPU times: user 24.6 ms, sys: 17.9 ms, total: 42.5 ms\n",
      "Wall time: 3.91 s\n"
     ]
    }
   ],
   "source": [
    "%%time \n",
    "import multiprocessing as mul\n",
    "\n",
    "pool = mul.Pool(5)\n",
    "rel = pool.map(infer, ['end/test2.jpg','end/test.jpg','end/test2.jpg','end/test2.jpg','end/test2.jpg','end/test2.jpg'])\n",
    "print(rel)"
   ]
  },
  {
   "cell_type": "code",
   "execution_count": 50,
   "metadata": {},
   "outputs": [
    {
     "name": "stdout",
     "output_type": "stream",
     "text": [
      "{'result': '粜秽ｌ分行名耨'}\n",
      "[None]\n",
      "CPU times: user 7.21 ms, sys: 23.6 ms, total: 30.8 ms\n",
      "Wall time: 1.74 s\n"
     ]
    }
   ],
   "source": [
    "%%time \n",
    "import multiprocessing as mul\n",
    "\n",
    "pool = mul.Pool(5)\n",
    "rel = pool.map(infer, ['end/test2.jpg'])\n",
    "print(rel)"
   ]
  },
  {
   "cell_type": "code",
   "execution_count": null,
   "metadata": {},
   "outputs": [],
   "source": []
  }
 ],
 "metadata": {
  "kernelspec": {
   "display_name": "conda_pytorch_p36",
   "language": "python",
   "name": "conda_pytorch_p36"
  },
  "language_info": {
   "codemirror_mode": {
    "name": "ipython",
    "version": 3
   },
   "file_extension": ".py",
   "mimetype": "text/x-python",
   "name": "python",
   "nbconvert_exporter": "python",
   "pygments_lexer": "ipython3",
   "version": "3.6.13"
  }
 },
 "nbformat": 4,
 "nbformat_minor": 4
}